{
 "cells": [
  {
   "cell_type": "code",
   "execution_count": null,
   "id": "2f174c47-f0f2-4b2a-b321-fa9eeeeec386",
   "metadata": {
    "jupyter": {
     "source_hidden": true
    },
    "tags": []
   },
   "outputs": [],
   "source": [
    "import batman\n",
    "import numpy as np\n",
    "import matplotlib.pyplot as plt"
   ]
  },
  {
   "cell_type": "code",
   "execution_count": 35,
   "id": "06e9f83b-cc36-4afc-b097-66db254a1a96",
   "metadata": {},
   "outputs": [],
   "source": [
    "import batman\n",
    "import numpy as np\n",
    "import matplotlib.pyplot as plt\n",
    "from scipy.optimize import curve_fit"
   ]
  },
  {
   "cell_type": "code",
   "execution_count": null,
   "id": "4f1cabde-ba40-410e-983b-f98cf06dc784",
   "metadata": {},
   "outputs": [],
   "source": [
    "file_name = 'Measurements.xls'\n",
    "with open (file_name, 'r') as file: \n",
    "    lines = file.readline()\n",
    "    lines = [i.strip('\\n') for i in lines]\n",
    "    "
   ]
  },
  {
   "cell_type": "code",
   "execution_count": 31,
   "id": "ef51e6d0-2fd4-4588-bf64-82e9b14bf625",
   "metadata": {},
   "outputs": [],
   "source": [
    "def func(t, t0, rp, a, inc):\n",
    "    params = batman.TransitParams()\n",
    "    params.t0 = t0 #0.                       #time of inferior conjunction\n",
    "    params.per = 1.729257                      #orbital period\n",
    "    params.rp = rp #0.1                      #planet radius (in units of stellar radii)\n",
    "    params.a = a #15.                       #semi-major axis (in units of stellar radii)\n",
    "    params.inc = inc #87.                     #orbital inclination (in degrees)\n",
    "    params.ecc = 0.                      #eccentricity\n",
    "    params.w = 90.                       #longitude of periastron (in degrees)\n",
    "    params.u = [0.1, 0.3]                #limb darkening coefficients [u1, u2]\n",
    "    params.limb_dark = \"quadratic\"       #limb darkening model"
   ]
  },
  {
   "cell_type": "code",
   "execution_count": 32,
   "id": "56e6051c-0adf-47bb-9c07-cef0c9ae566e",
   "metadata": {},
   "outputs": [],
   "source": [
    "t = np.linspace(-0.05, 0.05, 100)"
   ]
  },
  {
   "cell_type": "code",
   "execution_count": 33,
   "id": "7a725076-53ea-4cad-8578-f1d6e2a0c604",
   "metadata": {},
   "outputs": [],
   "source": [
    "m = batman.TransitModel(params, t)    #initializes model\n",
    "flux = m.light_curve(params)          #calculates light curve"
   ]
  },
  {
   "cell_type": "code",
   "execution_count": 34,
   "id": "8aaa916d-2c6f-4a0f-9ef6-27f28efda606",
   "metadata": {},
   "outputs": [
    {
     "data": {
      "image/png": "[encoded data removed]",
      "text/plain": [
       "<Figure size 432x288 with 1 Axes>"
      ]
     },
     "metadata": {
      "needs_background": "light"
     },
     "output_type": "display_data"
    }
   ],
   "source": [
    "plt.plot(t, flux)\n",
    "plt.xlabel(\"Time from central transit\")\n",
    "plt.ylabel(\"Relative flux\")\n",
    "plt.show()"
   ]
  },
  {
   "cell_type": "code",
   "execution_count": 25,
   "id": "65bf142c-5ad8-4678-a0df-614602e26188",
   "metadata": {},
   "outputs": [],
   "source": []
  },
  {
   "cell_type": "code",
   "execution_count": null,
   "id": "dc5c730c-a73e-4a1a-b5bc-17dcfc2694d5",
   "metadata": {},
   "outputs": [],
   "source": []
  },
  {
   "cell_type": "code",
   "execution_count": null,
   "id": "902d0992-1583-49c6-aa86-4c13c90e2b52",
   "metadata": {},
   "outputs": [],
   "source": []
  },
  {
   "cell_type": "code",
   "execution_count": null,
   "id": "bc0c031c-fc27-47a9-ad41-a29f8ae42fc3",
   "metadata": {},
   "outputs": [],
   "source": []
  },
  {
   "cell_type": "code",
   "execution_count": null,
   "id": "fb44ae07-7079-4083-a546-219ace62c787",
   "metadata": {},
   "outputs": [],
   "source": []
  }
 ],
 "metadata": {
  "kernelspec": {
   "display_name": "Python 3 (ipykernel)",
   "language": "python",
   "name": "python3"
  },
  "language_info": {
   "codemirror_mode": {
    "name": "ipython",
    "version": 3
   },
   "file_extension": ".py",
   "mimetype": "text/x-python",
   "name": "python",
   "nbconvert_exporter": "python",
   "pygments_lexer": "ipython3",
   "version": "3.9.7"
  }
 },
 "nbformat": 4,
 "nbformat_minor": 5
}
